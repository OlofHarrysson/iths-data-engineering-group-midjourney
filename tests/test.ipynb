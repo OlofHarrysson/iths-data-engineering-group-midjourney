{
 "cells": [
  {
   "cell_type": "markdown",
   "metadata": {},
   "source": [
    "# Truncate_string function"
   ]
  },
  {
   "cell_type": "code",
   "execution_count": 13,
   "metadata": {},
   "outputs": [
    {
     "name": "stdout",
     "output_type": "stream",
     "text": [
      "Here we have...\n",
      "Here we have...\n",
      "I love cats\n"
     ]
    }
   ],
   "source": [
    "text = \"Here we have an example of a text.\"\n",
    "text2 = \"Here we have a longer text to make sure that the function works as expected.\"\n",
    "text3 = \"I love cats\"\n",
    "\n",
    "def truncate_string(input_str, max_len=15):\n",
    "    if len(input_str) > max_len:\n",
    "        input_str = input_str[: max_len - 3] + \"...\"\n",
    "    return input_str\n",
    "\n",
    "print(truncate_string(text))\n",
    "print(truncate_string(text2))\n",
    "print(truncate_string(text3))"
   ]
  },
  {
   "cell_type": "markdown",
   "metadata": {},
   "source": [
    "# Hash function"
   ]
  },
  {
   "cell_type": "code",
   "execution_count": 5,
   "metadata": {},
   "outputs": [
    {
     "name": "stdout",
     "output_type": "stream",
     "text": [
      "51e8b9bbd6611f7b77283ca1cfe2f2713a91dcf7fedb2d600bcc283e9a377267\n",
      "e8e2d928f9a40ad9429dd18597844ffa0fa059f83ede25e26933a2edede26d73\n",
      "8ca96f725c0d4613422bc1318e8a4e14a0cee078de188412981a940d697792ec\n"
     ]
    }
   ],
   "source": [
    "import hashlib\n",
    "import json\n",
    "\n",
    "text = \"Jag heter Daniel och det här är ett test för att visa mina fantastiska gruppkamrater hur hash med sha256 fungerar.\"\n",
    "text2 = \"Jag heter Daniel och det här är en kortare text.\"\n",
    "text3 = \"Jag heter Daniel\"\n",
    "\n",
    "# The same input will always produce the same output.\n",
    "# The output is always the same length (fixed length).\n",
    "def hash_summary(summary):\n",
    "    return hashlib.sha256(json.dumps(summary, sort_keys=True).encode()).hexdigest()\n",
    "\n",
    "print(hash_summary(text))\n",
    "print(hash_summary(text2))\n",
    "print(hash_summary(text3))"
   ]
  },
  {
   "cell_type": "markdown",
   "metadata": {},
   "source": [
    "# Read and write to sent_log"
   ]
  },
  {
   "cell_type": "code",
   "execution_count": 15,
   "metadata": {},
   "outputs": [
    {
     "data": {
      "text/plain": [
       "[]"
      ]
     },
     "execution_count": 15,
     "metadata": {},
     "output_type": "execute_result"
    }
   ],
   "source": [
    "def read_sent_log():\n",
    "    try:\n",
    "        with open(\"sent_log.json\", \"r\") as f:\n",
    "            return json.load(f)\n",
    "    except FileNotFoundError:\n",
    "        return []\n",
    "    \n",
    "def write_sent_log(sent_log):\n",
    "    with open(\"sent_log.json\", \"w\") as f:\n",
    "        json.dump(sent_log, f)"
   ]
  },
  {
   "cell_type": "code",
   "execution_count": null,
   "metadata": {},
   "outputs": [],
   "source": [
    "# async def send_summary_to_discord(blog_name):\n",
    "#     async with aiohttp.ClientSession() as session:\n",
    "#         webhook = Webhook.from_url(webhook_url, adapter=AsyncWebhookAdapter(session))\n",
    "#         folder_path = (\n",
    "#             Path(__file__).parent.parent.parent / f\"data/data_warehouse/{blog_name}/summaries\"\n",
    "#         )\n",
    "#         group_name = \"Midjourney\"\n",
    "#         summaries = await get_articles_from_folder(folder_path)\n",
    "        sent_log = read_sent_log()\n",
    "\n",
    "        for summary in summaries:\n",
    "            summary_hash = hash_summary(summary)\n",
    "\n",
    "        # Vi behöver inte köra format_summary_message utan den här if-satsen\n",
    "        # Eftersom om den går inte går in i if-satsen så finns summary redan korekt formaterad\n",
    "            if summary_hash not in sent_log:\n",
    "                message_content = format_summary_message(summary, group_name)\n",
    "                message_content = truncate_string(message_content)  # Runs message through truncate function, making sure it is less than 2000 characters\n",
    "                await webhook.send(content=message_content)\n",
    "\n",
    "                sent_log.append(summary_hash)\n",
    "                write_sent_log(sent_log)\n",
    "                await asyncio.sleep(1) "
   ]
  },
  {
   "cell_type": "code",
   "execution_count": null,
   "metadata": {},
   "outputs": [],
   "source": [
    "# async def send_summary_to_discord(blog_name):\n",
    "#     async with aiohttp.ClientSession() as session:\n",
    "#         webhook = Webhook.from_url(webhook_url, adapter=AsyncWebhookAdapter(session))\n",
    "#         folder_path = (\n",
    "#             Path(__file__).parent.parent.parent / f\"data/data_warehouse/{blog_name}/summaries\"\n",
    "#         )\n",
    "#         group_name = \"Midjourney\"\n",
    "#         summaries = await get_articles_from_folder(folder_path)\n",
    "\n",
    "        for summary in summaries:\n",
    "            message_content = format_summary_message(summary, group_name)\n",
    "            await webhook.send(content=message_content)\n",
    "            # Adds a sleep time for one second to respect rate limits and prevent 429 Too Many Requests errors from Discord.\n",
    "            await asyncio.sleep(1)"
   ]
  }
 ],
 "metadata": {
  "kernelspec": {
   "display_name": "Databehandling-Daniel-Nilsson-e3Fmcrgn",
   "language": "python",
   "name": "python3"
  },
  "language_info": {
   "codemirror_mode": {
    "name": "ipython",
    "version": 3
   },
   "file_extension": ".py",
   "mimetype": "text/x-python",
   "name": "python",
   "nbconvert_exporter": "python",
   "pygments_lexer": "ipython3",
   "version": "3.9.13"
  },
  "orig_nbformat": 4
 },
 "nbformat": 4,
 "nbformat_minor": 2
}
